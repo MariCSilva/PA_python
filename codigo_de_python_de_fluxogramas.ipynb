{
  "nbformat": 4,
  "nbformat_minor": 0,
  "metadata": {
    "colab": {
      "provenance": [],
      "authorship_tag": "ABX9TyO+TixvNJWYLPtJNwstt5J3",
      "include_colab_link": true
    },
    "kernelspec": {
      "name": "python3",
      "display_name": "Python 3"
    },
    "language_info": {
      "name": "python"
    }
  },
  "cells": [
    {
      "cell_type": "markdown",
      "metadata": {
        "id": "view-in-github",
        "colab_type": "text"
      },
      "source": [
        "<a href=\"https://colab.research.google.com/github/MariCSilva/PA_python/blob/main/codigo_de_python_de_fluxogramas.ipynb\" target=\"_parent\"><img src=\"https://colab.research.google.com/assets/colab-badge.svg\" alt=\"Open In Colab\"/></a>"
      ]
    },
    {
      "cell_type": "markdown",
      "source": [
        "# Fluxogramas para python\n",
        "\n",
        "\n",
        "\n"
      ],
      "metadata": {
        "id": "Z0u3uWIhR1YZ"
      }
    },
    {
      "cell_type": "code",
      "source": [
        "#custo de um carro para o consumidor\n",
        "\n",
        "##entrada\n",
        "valorcarro = 25000.00\n",
        "\n",
        "impostotrib = (valorcarro *45/100) + valorcarro\n",
        "\n",
        "##processo\n",
        "valorfinal = (impostotrib *28/100) + impostotrib\n"
      ],
      "metadata": {
        "id": "A5qEfqOeR_Eu"
      },
      "execution_count": null,
      "outputs": []
    },
    {
      "cell_type": "code",
      "source": [
        "##saida\n",
        "print(f\" o valor do carro para o consumidor será de: {valorfinal}\")"
      ],
      "metadata": {
        "colab": {
          "base_uri": "https://localhost:8080/"
        },
        "id": "tDcnPiiJjBEj",
        "outputId": "1760c3ec-71bd-4a00-dc4e-ff102f8bfe46"
      },
      "execution_count": null,
      "outputs": [
        {
          "output_type": "stream",
          "name": "stdout",
          "text": [
            " o valor do carro para o consumidor será de: 46400.0\n"
          ]
        }
      ]
    },
    {
      "cell_type": "code",
      "source": [
        "#conversao de minutos e horas em segundos\n",
        "\n",
        "##entrada\n",
        "horas = float(input(\"digite as horas: \"))\n",
        "minutos = float(input(\"digite os minutos: \"))\n",
        "\n"
      ],
      "metadata": {
        "colab": {
          "base_uri": "https://localhost:8080/"
        },
        "id": "ZoEktOtukepH",
        "outputId": "3ecae2a7-c746-48ff-c4e5-ca7d6b76e107"
      },
      "execution_count": null,
      "outputs": [
        {
          "name": "stdout",
          "output_type": "stream",
          "text": [
            "digite as horas: 1\n",
            "digite os minutos: 32\n"
          ]
        }
      ]
    },
    {
      "cell_type": "code",
      "source": [
        "##processo\n",
        "minutosdec = minutos / 60\n",
        "horasdec = horas + minutosdec"
      ],
      "metadata": {
        "id": "XuXTMLiBrrJI"
      },
      "execution_count": null,
      "outputs": []
    },
    {
      "cell_type": "code",
      "source": [
        "##saida\n",
        "print(f\"{horas} horas e {minutos} minutos em segundos são:{horasdec}\")"
      ],
      "metadata": {
        "colab": {
          "base_uri": "https://localhost:8080/"
        },
        "id": "paRM_ly1r9O_",
        "outputId": "6ddfb8c5-db41-4736-cc5f-e2c5f842327a"
      },
      "execution_count": null,
      "outputs": [
        {
          "output_type": "stream",
          "name": "stdout",
          "text": [
            "1.0 horas e 32.0 minutos em segundos são:1.5333333333333332\n"
          ]
        }
      ]
    },
    {
      "cell_type": "code",
      "source": [
        "#horaextra\n",
        "\n",
        "##entrada\n",
        "hora = float(input(\"coloque as horas de trabalho: \"))\n",
        "minuto = float(input(\"coloque os minutos de trabalho: \"))\n",
        "valorhora = float(input(\"informe o valor que você ganha por hora: \"))\n"
      ],
      "metadata": {
        "colab": {
          "base_uri": "https://localhost:8080/"
        },
        "id": "G_TIz3nMtRFK",
        "outputId": "edf0f5f7-4ec9-434e-95fa-15c707d88efa"
      },
      "execution_count": null,
      "outputs": [
        {
          "name": "stdout",
          "output_type": "stream",
          "text": [
            "coloque as horas de trabalho: 15\n",
            "coloque os minutos de trabalho: 45\n",
            "informe o valor que você ganha por hora: 25\n"
          ]
        }
      ]
    },
    {
      "cell_type": "code",
      "source": [
        "##processo\n",
        "minutodec = minuto / 60\n",
        "horadec = hora + minutodec\n",
        "salario = (horadec * valorhora)\n",
        "valorfinal = (salario * 70/100) + salario\n"
      ],
      "metadata": {
        "id": "7A2CfFFAxk0p"
      },
      "execution_count": null,
      "outputs": []
    },
    {
      "cell_type": "code",
      "source": [
        "##saida\n",
        "print(f\"seu salario é de: {salario}, e com a adição dos 70% da hora extra, o valor total fica: {valorfinal}\")\n"
      ],
      "metadata": {
        "colab": {
          "base_uri": "https://localhost:8080/"
        },
        "id": "S5D1KyaVzk6w",
        "outputId": "92e50b4a-8835-4f4a-9f95-868777745f69"
      },
      "execution_count": null,
      "outputs": [
        {
          "output_type": "stream",
          "name": "stdout",
          "text": [
            "seu salario é de: 393.75, e com a adição dos 70% da hora extra, o valor total fica: 669.375\n"
          ]
        }
      ]
    }
  ]
}