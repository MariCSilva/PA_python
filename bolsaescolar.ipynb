{
  "nbformat": 4,
  "nbformat_minor": 0,
  "metadata": {
    "colab": {
      "provenance": [],
      "authorship_tag": "ABX9TyPwKOgUo/Pr7G04C/Mx6i2J",
      "include_colab_link": true
    },
    "kernelspec": {
      "name": "python3",
      "display_name": "Python 3"
    },
    "language_info": {
      "name": "python"
    }
  },
  "cells": [
    {
      "cell_type": "markdown",
      "metadata": {
        "id": "view-in-github",
        "colab_type": "text"
      },
      "source": [
        "<a href=\"https://colab.research.google.com/github/MariCSilva/PA_python/blob/main/depois_da_prova.ipynb\" target=\"_parent\"><img src=\"https://colab.research.google.com/assets/colab-badge.svg\" alt=\"Open In Colab\"/></a>"
      ]
    },
    {
      "cell_type": "markdown",
      "source": [
        "1)\tDetector de Fases da Lua (Situação hipotética)\n",
        "\n",
        "Faça um programa que pergunte o dia do mês (1 a 31) Não aceite valores fora desse intervalo.\n",
        "\n",
        "Baseado no dia, informe a provável fase da lua:\n",
        "\n",
        "•  Dia 1 a 7: Lua Nova\n",
        "\n",
        "•  Dia 8 a 14: Quarto Crescente\n",
        "\n",
        "•  Dia 15 a 21: Lua Cheia\n",
        "\n",
        "•  Dia 22 a 29: Quarto Minguante\n",
        "\n",
        "•  Dia 30 ou mais: Início de novo ciclo lunar\n"
      ],
      "metadata": {
        "id": "x-T9Q5o0D2Cl"
      }
    },
    {
      "cell_type": "code",
      "execution_count": 12,
      "metadata": {
        "colab": {
          "base_uri": "https://localhost:8080/"
        },
        "id": "v53GqU4uDhxg",
        "outputId": "f6c29d20-0314-43b1-f8ba-bf04ba2bbfb0"
      },
      "outputs": [
        {
          "output_type": "stream",
          "name": "stdout",
          "text": [
            "digite o dia do mês: 36\n",
            "dia invalido\n"
          ]
        }
      ],
      "source": [
        "#calendário\n",
        "\n",
        "dia = int(input(\"digite o dia do mês: \"))\n",
        "if dia >= 1 and dia <= 31:\n",
        "  if dia >= 1 and dia <= 7:\n",
        "    print(\"Lua nova\")\n",
        "  elif dia >= 8 and dia <= 14:\n",
        "    print(\"Quarto crescente\")\n",
        "  elif dia >= 15 and dia <= 21:\n",
        "    print(\"Lua cheia\")\n",
        "  elif dia >= 22 and dia <= 29:\n",
        "    print(\"Quarto minguante\")\n",
        "  else:\n",
        "    print(\"inicio de novo ciclo lunar\")\n",
        "else:\n",
        "  print(\"dia invalido\")"
      ]
    },
    {
      "cell_type": "code",
      "source": [
        "2)\tCrie um programa que simule a entrada de um jogador em uma batalha de RPG. O usuário deverá informar:\n",
        "\n",
        "•\tSua classe: \"mago\", \"guerreiro\" ou \"arqueiro\" (deve dar erro se as entradas forem diferentes dessas.\n",
        "\n",
        "•\tSua energia (valor de 0 a 100)\n",
        "\n",
        "Regras de entrada:\n",
        "\n",
        "•\tMagos: precisam ter energia > 60\n",
        "\n",
        "•\tGuerreiros: energia > 40\n",
        "\n",
        "•\tArqueiros: energia > 50\n",
        "\n",
        "Se puder entrar na batalha, o programa deve calcular um dano base diferente para cada classe:\n",
        "•\tMago: dano = energia × 1.5\n",
        "\n",
        "•\tGuerreiro: dano = energia × 2\n",
        "\n",
        "•\tArqueiro: dano = energia × 1.2\n",
        "\n",
        "O programa deve exibir:\n",
        "\n",
        "•\tSe o jogador pode ou não entrar\n",
        "\n",
        "•\tE, se puder, mostrar seu dano base calculado\n",
        "\n",
        "Exemplo da saída:\n",
        "\n",
        "Classe: guerreiro\n",
        "\n",
        "Energia: 55\n",
        "\n",
        "Você pode entrar na batalha!\n",
        "\n",
        "Dano base: 110.0\n"
      ],
      "metadata": {
        "id": "RxqYmVp-EJlV"
      },
      "execution_count": null,
      "outputs": []
    },
    {
      "cell_type": "code",
      "source": [
        "#rpg\n",
        "\n",
        "energia = int(input(\"digite sua energia: \"))\n",
        "if energia >=0 and energia <=100:\n",
        "  classe = int(input(\"digite sua classe: 1 = mago, 2 = guerreiro ou 3 = arqueiro \"))\n",
        "\n",
        "  if classe == 1:\n",
        "    energia = energia *1.5\n",
        "    if energia >60:\n",
        "      print(\"entrou na batalha, energia igual:\", energia)\n",
        "    else:\n",
        "      print(\"sem energia suficiente\")\n",
        "\n",
        "  elif classe ==2:\n",
        "    energia = energia *2\n",
        "    if energia >40:\n",
        "      print(\"entrou na batalha, energia igual:\", energia)\n",
        "    else:\n",
        "      print(\"sem energia suficiente\")\n",
        "\n",
        "  elif classe ==3:\n",
        "    energia = energia *1.2\n",
        "    if energia >50:\n",
        "      print(\"entrou na batalha, energia igual:\", energia)\n",
        "    else:\n",
        "      print(\"sem energia suficiente\")\n",
        "\n",
        "  else:\n",
        "    print(\"classe invalida\")\n",
        "\n",
        "else:\n",
        "  print(\"energia invalida\")"
      ],
      "metadata": {
        "colab": {
          "base_uri": "https://localhost:8080/"
        },
        "id": "Q5TxKprLFHvb",
        "outputId": "6cacb051-bf93-4297-ed22-183c5ef544b0"
      },
      "execution_count": 36,
      "outputs": [
        {
          "output_type": "stream",
          "name": "stdout",
          "text": [
            "digite sua energia: 0\n",
            "digite sua classe: 1 = mago, 2 = guerreiro ou 3 = arqueiro 3\n",
            "sem energia suficiente\n"
          ]
        }
      ]
    },
    {
      "cell_type": "code",
      "source": [
        "#rpg\n",
        "\n",
        "energia = int(input(\"digite sua energia: \"))\n",
        "if energia >=0 and energia <=100:\n",
        "  classe = (input(\"digite sua classe: mago, guerreiro ou arqueiro \"))\n",
        "\n",
        "  if classe == \"mago\":\n",
        "    energia = energia *1.5\n",
        "    if energia >60:\n",
        "      print(\"entrou na batalha, energia igual:\", energia)\n",
        "    else:\n",
        "      print(\"sem energia suficiente\")\n",
        "\n",
        "  elif classe ==\"guerreiro\":\n",
        "    energia = energia *2\n",
        "    if energia >40:\n",
        "      print(\"entrou na batalha, energia igual:\", energia)\n",
        "    else:\n",
        "      print(\"sem energia suficiente\")\n",
        "\n",
        "  elif classe ==\"arqueiro\":\n",
        "    energia = energia *1.2\n",
        "    if energia >50:\n",
        "      print(\"entrou na batalha, energia igual:\", energia)\n",
        "    else:\n",
        "      print(\"sem energia suficiente\")\n",
        "\n",
        "  else:\n",
        "    print(\"classe invalida\")\n",
        "\n",
        "else:\n",
        "  print(\"energia invalida\")"
      ],
      "metadata": {
        "colab": {
          "base_uri": "https://localhost:8080/"
        },
        "id": "TH3rSjZSHYSL",
        "outputId": "ee094436-fd86-44f6-8cef-bfae0799ecb7"
      },
      "execution_count": 35,
      "outputs": [
        {
          "output_type": "stream",
          "name": "stdout",
          "text": [
            "digite sua energia: 1\n",
            "digite sua classe: mago, guerreiro ou arqueiro mago\n",
            "sem energia suficiente\n"
          ]
        }
      ]
    },
    {
      "cell_type": "markdown",
      "source": [
        "#**atividade**\n",
        "##bolsa em escola"
      ],
      "metadata": {
        "id": "SRN2W3WFM3Ou"
      }
    },
    {
      "cell_type": "code",
      "source": [
        "renda = float(input(\"digite a sua renda familiar mensal em reais: \"))\n",
        "if renda <0:\n",
        "  print(\"renda invalida\")\n",
        "elif renda >5000:\n",
        "  print(\"Não participa da bolsa. Só participam candidatos com renda menor ou igual a R$ 5.000.\")\n",
        "else:\n",
        "  print(\"aprovado\")\n",
        "  escola = int(input(\"digite qual tipo de escola você estuda: 1 para publica e 2 para particular \"))\n",
        "  if escola == 1 or escola == 2:\n",
        "    nota_mat = float(input(\"digite sua nota anual de matematica: \"))\n",
        "    if nota_mat >=1 and nota_mat <=10:\n",
        "      nota_port = float(input(\"digite sua nota anual de portugues: \"))\n",
        "      if nota_port >=1 and nota_port <=10:\n",
        "        nota_geral = float(input(\"digite sua nota anual de conhecimentos gerais: \"))\n",
        "        if nota_geral >=1 and nota_geral <=10:\n",
        "\n",
        "          media = (nota_geral + nota_mat + nota_port) /3\n",
        "          if escola == 1 and media > 8:\n",
        "            media = media + media * 0.2\n",
        "            if renda <3000:\n",
        "              media = media + media*0.15\n",
        "              print(\"sua média final é de: \", media)\n",
        "            else:\n",
        "               print(\"sua média final é de: \", media)\n",
        "\n",
        "          elif escola == 1 and media >6 and media <8:\n",
        "            media = media *0.1\n",
        "            if renda <3000:\n",
        "              media = media + media*0.05\n",
        "              print(\"sua média final é de: \", media)\n",
        "            else:\n",
        "              print(\"sua média final é de: \", media)\n",
        "\n",
        "          elif escola == 2 and media > 8:\n",
        "            media = media + media * 0.05\n",
        "            if renda <3000:\n",
        "              media = media + media*0.15\n",
        "              print(\"sua média final é de: \", media)\n",
        "            else:\n",
        "              print(\"sua média final é de: \", media)\n",
        "\n",
        "          elif escola == 2 and media >6 and media <8:\n",
        "            media = media *0.025\n",
        "            if renda <3000:\n",
        "              media = media + media*0.02\n",
        "              print(\"sua média final é de: \", media)\n",
        "            else:\n",
        "              print(\"sua média final é de: \", media)\n",
        "\n",
        "          else:\n",
        "            print(\"Não concorre à bolsa por nota baixa\")\n",
        "\n",
        "        else:\n",
        "          print(\"Nota invalida\")\n",
        "      else:\n",
        "        print(\"Nota invalida\")\n",
        "    else:\n",
        "      print(\"Nota invalida\")\n",
        "\n",
        "  else:\n",
        "    print(\"tipo de escola invalido\")"
      ],
      "metadata": {
        "colab": {
          "base_uri": "https://localhost:8080/"
        },
        "id": "K96pt_fbM-Qt",
        "outputId": "ed7b7df3-d70e-4253-d94f-6ee619c2a8dd"
      },
      "execution_count": 81,
      "outputs": [
        {
          "output_type": "stream",
          "name": "stdout",
          "text": [
            "digite a sua renda familiar mensal em reais: 4000\n",
            "aprovado\n",
            "digite qual tipo de escola você estuda: 1 para publica e 2 para particular 1\n",
            "digite sua nota anual de matematica: 10\n",
            "digite sua nota anual de portugues: 10\n",
            "digite sua nota anual de conhecimentos gerais: 10\n",
            "sua média final é de:  12.0\n"
          ]
        }
      ]
    },
    {
      "cell_type": "code",
      "source": [],
      "metadata": {
        "id": "EvMfZA48OiMM"
      },
      "execution_count": null,
      "outputs": []
    }
  ]
}
