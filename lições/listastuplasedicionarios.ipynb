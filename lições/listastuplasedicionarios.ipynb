{
  "nbformat": 4,
  "nbformat_minor": 0,
  "metadata": {
    "colab": {
      "provenance": [],
      "authorship_tag": "ABX9TyPFCQVgtlU+VWNkBlMT0Yth",
      "include_colab_link": true
    },
    "kernelspec": {
      "name": "python3",
      "display_name": "Python 3"
    },
    "language_info": {
      "name": "python"
    }
  },
  "cells": [
    {
      "cell_type": "markdown",
      "metadata": {
        "id": "view-in-github",
        "colab_type": "text"
      },
      "source": [
        "<a href=\"https://colab.research.google.com/github/MariCSilva/PA_python/blob/main/li%C3%A7%C3%B5es/listastuplasedicionarios.ipynb\" target=\"_parent\"><img src=\"https://colab.research.google.com/assets/colab-badge.svg\" alt=\"Open In Colab\"/></a>"
      ]
    },
    {
      "cell_type": "markdown",
      "source": [
        "**negrito**# **Exercícios**\n",
        "##Exercício 1: Manipulação de Listas\n",
        "\n",
        "- Defina uma lista com 5 nomes de cidades.\n",
        "- Adicione uma nova cidade ao final da lista.\n",
        "- Remova a segunda cidade da lista.\n",
        "- Imprima a lista resultante."
      ],
      "metadata": {
        "id": "Y_YJtHALyD7j"
      }
    },
    {
      "cell_type": "code",
      "source": [
        "cidades = [\"Mauá\", \"São Bernardo\", \"Ribeirão\", \"Santo André\", \"Recife\"]\n",
        "cidades\n",
        "\n"
      ],
      "metadata": {
        "id": "F7PpZmzsyJkj",
        "colab": {
          "base_uri": "https://localhost:8080/"
        },
        "outputId": "6668ca20-1bcd-4e1c-d514-53ab2fd71918"
      },
      "execution_count": null,
      "outputs": [
        {
          "output_type": "execute_result",
          "data": {
            "text/plain": [
              "['Mauá', 'São Bernardo', 'Ribeirão', 'Santo André', 'Recife']"
            ]
          },
          "metadata": {},
          "execution_count": 100
        }
      ]
    },
    {
      "cell_type": "code",
      "source": [
        "cidades.append(\"Paranapiacaba\")\n",
        "cidades"
      ],
      "metadata": {
        "colab": {
          "base_uri": "https://localhost:8080/"
        },
        "id": "djyVN6kFnOhX",
        "outputId": "adb3fc4c-ccf4-491e-8804-8d71e7bbd1fb"
      },
      "execution_count": null,
      "outputs": [
        {
          "output_type": "execute_result",
          "data": {
            "text/plain": [
              "['Mauá', 'São Bernardo', 'Ribeirão', 'Santo André', 'Recife', 'Paranapiacaba']"
            ]
          },
          "metadata": {},
          "execution_count": 101
        }
      ]
    },
    {
      "cell_type": "code",
      "source": [
        "del cidades[1]\n",
        "cidades"
      ],
      "metadata": {
        "colab": {
          "base_uri": "https://localhost:8080/"
        },
        "id": "e6H6Xve5nP9e",
        "outputId": "b1be6134-2377-4b30-c820-cc50d2dd0129"
      },
      "execution_count": null,
      "outputs": [
        {
          "output_type": "execute_result",
          "data": {
            "text/plain": [
              "['Mauá', 'Ribeirão', 'Santo André', 'Recife', 'Paranapiacaba']"
            ]
          },
          "metadata": {},
          "execution_count": 102
        }
      ]
    },
    {
      "cell_type": "markdown",
      "source": [
        "##Exercício 2: Operações com Tuplas\n",
        "\n",
        "- Defina uma tupla com 4 cores.\n",
        "- Crie uma nova tupla que seja a concatenação da tupla original com outra contendo mais 2 cores.\n",
        "- Imprima a nova tupla."
      ],
      "metadata": {
        "id": "chLTYNQGyUrj"
      }
    },
    {
      "cell_type": "code",
      "source": [
        "cores = (\"vermelho\", \"laranja\", \"amarelo\", \"verde\")\n",
        "cores"
      ],
      "metadata": {
        "id": "TdRLrGUoyaHa",
        "colab": {
          "base_uri": "https://localhost:8080/"
        },
        "outputId": "9c9e77c2-c4ca-467c-e90b-9b46c3af93ff"
      },
      "execution_count": null,
      "outputs": [
        {
          "output_type": "execute_result",
          "data": {
            "text/plain": [
              "('vermelho', 'laranja', 'amarelo', 'verde')"
            ]
          },
          "metadata": {},
          "execution_count": 104
        }
      ]
    },
    {
      "cell_type": "code",
      "source": [
        "novas_cores = cores + (\"azul\", \"roxo\",)\n",
        "print(novas_cores)"
      ],
      "metadata": {
        "colab": {
          "base_uri": "https://localhost:8080/"
        },
        "id": "9g-olByHn3sc",
        "outputId": "346b8690-3744-4ce1-be6f-b3e97877b3f6"
      },
      "execution_count": null,
      "outputs": [
        {
          "output_type": "stream",
          "name": "stdout",
          "text": [
            "('vermelho', 'laranja', 'amarelo', 'verde', 'azul', 'roxo')\n"
          ]
        }
      ]
    },
    {
      "cell_type": "markdown",
      "source": [
        "##Exercício 3: Dicionários Simples\n",
        "\n",
        "Crie um dicionário para representar um aluno, contendo \"nome\", \"idade\" e \"curso\".\n",
        "- Atualize a idade do aluno.\n",
        "- Adicione uma nova chave \"nota\" com um valor.\n",
        "- Imprima o dicionário atualizado"
      ],
      "metadata": {
        "id": "5eLz2Zvvygej"
      }
    },
    {
      "cell_type": "code",
      "source": [
        "estudante = {\n",
        "    \"nome\" : \"Jilberto\",\n",
        "    \"idade\" : \"67\",\n",
        "    \"curso\" : \"quimica\"\n",
        "}\n",
        "estudante"
      ],
      "metadata": {
        "id": "g3w1JYkIy1fy",
        "colab": {
          "base_uri": "https://localhost:8080/"
        },
        "outputId": "884db05c-1286-45d6-9407-93c13f51b404"
      },
      "execution_count": null,
      "outputs": [
        {
          "output_type": "execute_result",
          "data": {
            "text/plain": [
              "{'nome': 'Jilberto', 'idade': '67', 'curso': 'quimica'}"
            ]
          },
          "metadata": {},
          "execution_count": 35
        }
      ]
    },
    {
      "cell_type": "code",
      "source": [
        "estudante[\"idade\"]=70"
      ],
      "metadata": {
        "id": "ZHe0iFEVfuc9"
      },
      "execution_count": null,
      "outputs": []
    },
    {
      "cell_type": "code",
      "source": [
        "estudante['nota'] = 10\n",
        "print(estudante)"
      ],
      "metadata": {
        "colab": {
          "base_uri": "https://localhost:8080/"
        },
        "id": "nn69XEbIotX8",
        "outputId": "156d2ab8-9041-473c-86e6-69537f95a6f8"
      },
      "execution_count": null,
      "outputs": [
        {
          "output_type": "stream",
          "name": "stdout",
          "text": [
            "{'nome': 'Jilberto', 'idade': 70, 'curso': 'quimica', 'nota': 10}\n"
          ]
        }
      ]
    },
    {
      "cell_type": "markdown",
      "source": [
        "##Exercício 4: Listas e Dicionários\n",
        "\n",
        "- Crie uma lista de dicionários, onde cada dicionário representa um produto com as chaves \"nome\" e \"preço\".\n",
        "- Adicione um novo produto à lista.\n",
        "- Atualize o preço do primeiro produto na lista.\n",
        "- Imprima a lista resultante."
      ],
      "metadata": {
        "id": "6IhHbYV3y7ES"
      }
    },
    {
      "cell_type": "code",
      "source": [
        "produtos = [{\"nome\" : \"maçã\",\"preço\" : 5.80,},{\"nome\" : \"banana\",\"preço\" : 7.00,}]\n",
        "\n",
        "print(produtos)\n",
        "\n",
        "produtos.append({\"nome\" : \"pera\",\"preço\" : 5.80,})\n",
        "\n",
        "print(produtos)\n",
        "\n",
        "produtos[0][\"preço\"]=5.90\n",
        "\n",
        "print(produtos)"
      ],
      "metadata": {
        "id": "OgnFiZ2qzGAD",
        "colab": {
          "base_uri": "https://localhost:8080/"
        },
        "outputId": "72943910-ebea-45d0-ff28-d9b408545ba1"
      },
      "execution_count": null,
      "outputs": [
        {
          "output_type": "stream",
          "name": "stdout",
          "text": [
            "[{'nome': 'maçã', 'preço': 5.8}, {'nome': 'banana', 'preço': 7.0}]\n",
            "[{'nome': 'maçã', 'preço': 5.8}, {'nome': 'banana', 'preço': 7.0}, {'nome': 'pera', 'preço': 5.8}]\n",
            "[{'nome': 'maçã', 'preço': 5.9}, {'nome': 'banana', 'preço': 7.0}, {'nome': 'pera', 'preço': 5.8}]\n"
          ]
        }
      ]
    },
    {
      "cell_type": "markdown",
      "source": [
        "##Exercício 5: Analisando uma Lista de Tuplas\n",
        "\n",
        "- Crie uma lista de tuplas, onde cada tupla contém um par (nome, idade).\n",
        "- Encontre e imprima o nome da pessoa mais velha.\n",
        "- Encontre e imprima a idade média das pessoas."
      ],
      "metadata": {
        "id": "KtVatd9TzJRC"
      }
    },
    {
      "cell_type": "code",
      "source": [
        "pessoas = [(\"Larissa\",23),(\"Matheus\",40),(\"Theo\",30),]\n",
        "\n",
        "maisvelho = 0\n",
        "nomemaisvelho = \"\"\n",
        "\n",
        "if pessoas[0][1] > maisvelho:\n",
        "  maisvelho = pessoas[0][1]\n",
        "  nomemaisvelho = pessoas[0][0]\n",
        "\n",
        "if pessoas[1][1] > maisvelho:\n",
        "  maisvelho = pessoas[1][1]\n",
        "  nomemaisvelho = pessoas[1][0]\n",
        "\n",
        "if pessoas[2][1] > maisvelho:\n",
        "  maisvelho = pessoas[2][1]\n",
        "  nomemaisvelho = pessoas[2][0]\n",
        "\n",
        "print(\"o nome da pessoa mais velha é:\", nomemaisvelho)\n",
        "\n",
        "idademedia = (pessoas[0][1] + pessoas[1][1] + pessoas[2][1]) / len(pessoas)\n",
        "print(\"a idade média das pessoas é:\", idademedia)\n"
      ],
      "metadata": {
        "colab": {
          "base_uri": "https://localhost:8080/"
        },
        "id": "4myhUnpIc0uS",
        "outputId": "c53cf227-3100-4c2f-aaa1-32409cee018b"
      },
      "execution_count": null,
      "outputs": [
        {
          "output_type": "stream",
          "name": "stdout",
          "text": [
            "o nome da pessoa mais velha é: Matheus\n",
            "a idade média das pessoas é: 31.0\n"
          ]
        }
      ]
    }
  ]
}