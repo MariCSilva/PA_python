{
  "nbformat": 4,
  "nbformat_minor": 0,
  "metadata": {
    "colab": {
      "provenance": [],
      "include_colab_link": true
    },
    "kernelspec": {
      "name": "python3",
      "display_name": "Python 3"
    },
    "language_info": {
      "name": "python"
    }
  },
  "cells": [
    {
      "cell_type": "markdown",
      "metadata": {
        "id": "view-in-github",
        "colab_type": "text"
      },
      "source": [
        "<a href=\"https://colab.research.google.com/github/MariCSilva/PA_python/blob/main/li%C3%A7%C3%B5es/Exercicios_de_PA.ipynb\" target=\"_parent\"><img src=\"https://colab.research.google.com/assets/colab-badge.svg\" alt=\"Open In Colab\"/></a>"
      ]
    },
    {
      "cell_type": "markdown",
      "source": [
        "#exercios"
      ],
      "metadata": {
        "id": "ic_L0DXp_lDF"
      }
    },
    {
      "cell_type": "markdown",
      "source": [
        "1. Faça um programa que solicite ao usuário três valores (lados de um triangulo), verifique se é um triangulo e informe se ele é isóceles, equilatero ou escaleno.\n"
      ],
      "metadata": {
        "id": "td8jEsU9_piT"
      }
    },
    {
      "cell_type": "code",
      "source": [
        "# entrada\n",
        "\n",
        "l1= int(input(\"insira o lado 1 : \"))\n",
        "l2= int(input(\"insira o lado 2 : \"))\n",
        "l3= int(input(\"insira o lado 3 : \"))"
      ],
      "metadata": {
        "colab": {
          "base_uri": "https://localhost:8080/"
        },
        "id": "R1gIjKwd_pTL",
        "outputId": "2904f2a2-607f-4659-b0e6-0d60eb111052"
      },
      "execution_count": null,
      "outputs": [
        {
          "name": "stdout",
          "output_type": "stream",
          "text": [
            "insira o lado 1 : 4\n",
            "insira o lado 2 : 4\n",
            "insira o lado 3 : 4\n"
          ]
        }
      ]
    },
    {
      "cell_type": "code",
      "source": [
        "# processo"
      ],
      "metadata": {
        "id": "8WWDO57UBV8C"
      },
      "execution_count": null,
      "outputs": []
    },
    {
      "cell_type": "code",
      "source": [
        "while True:\n",
        "  l1= int(input(\"insira o lado 1 : \"))\n",
        "  l2= int(input(\"insira o lado 2 : \"))\n",
        "  l3= int(input(\"insira o lado 3 : \"))\n",
        "\n",
        "  if ((l1+l2>l3) and (l1+l3>l2) and (l2+l3>l1)):\n",
        "    if (l1 == l2 and l2 == l3):\n",
        "      print(\"equilatero\")\n",
        "    elif (l1 != l2 and l2 != l3 and l1 != l3):\n",
        "      print(\"escaleno\")\n",
        "    elif l1 == ((l2 != l3) or (l1 == l3 != l2) or (l2 == l3 != l1)):\n",
        "      print(\"isoceles\")\n",
        "  else:\n",
        "    print(\"não é um triangulo\")\n",
        "\n",
        "  resp = input(\"quer calcular com lados novos? \").lower()\n",
        "  if resp == \"não\":\n",
        "    break\n"
      ],
      "metadata": {
        "colab": {
          "base_uri": "https://localhost:8080/"
        },
        "id": "VsYoVgvCBYCa",
        "outputId": "4099a0ec-2c10-4ff1-ae27-36ef710e8e76"
      },
      "execution_count": 4,
      "outputs": [
        {
          "name": "stdout",
          "output_type": "stream",
          "text": [
            "insira o lado 1 : 1\n",
            "insira o lado 2 : 1\n",
            "insira o lado 3 : 1\n",
            "equilatero\n",
            "quer calcular com lados novos? não\n"
          ]
        }
      ]
    },
    {
      "cell_type": "markdown",
      "source": [
        "2. Peça para o usuário digitar um valor informe se ele é par ou impar"
      ],
      "metadata": {
        "id": "8Qy_rfXQDKgp"
      }
    },
    {
      "cell_type": "code",
      "source": [
        "# entrada\n",
        "while True:\n",
        "  valor =int(input(\"Digite um numero: \"))\n",
        "  if (valor%2 == 0):\n",
        "    print(\"numero par\")\n",
        "  else:\n",
        "    print(\"numero impar\")\n",
        "  resp = input(\"digite sair para encerrar \").lower()\n",
        "  if resp == \"sair\":\n",
        "    break"
      ],
      "metadata": {
        "colab": {
          "base_uri": "https://localhost:8080/"
        },
        "id": "zV2GQs17DOp4",
        "outputId": "e7afe22a-105f-4f63-9d6f-0c26b15b8614"
      },
      "execution_count": null,
      "outputs": [
        {
          "name": "stdout",
          "output_type": "stream",
          "text": [
            "Digite um numero: 10\n",
            "numero par\n",
            "digite sair para encerrar 0\n",
            "Digite um numero: 20\n",
            "numero par\n",
            "digite sair para encerrar 0\n",
            "Digite um numero: 4\n",
            "numero par\n",
            "digite sair para encerrar sair\n"
          ]
        }
      ]
    },
    {
      "cell_type": "markdown",
      "source": [
        "3. Faça um programa que solicite peso e altura, informe seu IMC. Ao final informe se ele está, abaixo do peso,peso ideal ou acima do peso. fórmula do IMC: (peso/altura^2), siga a tabela abaixo:I"
      ],
      "metadata": {
        "id": "QH1cAxWZDosf"
      }
    },
    {
      "cell_type": "code",
      "source": [
        "# entrada\n",
        "while True:\n",
        "  peso= float(input(\"digite seu peso ou 0 para parar: \"))\n",
        "  if peso == 0:\n",
        "    break\n",
        "  altura= float(input(\"digite sua altura: \"))\n",
        "\n",
        "# processo\n",
        "\n",
        "  imc= peso/altura**2\n",
        "  if (imc < 18.5):\n",
        "    print(\"voce esta abaixo do peso\")\n",
        "  elif (imc >= 18.5 and imc <= 24.9):\n",
        "    print(\"voce esta no peso ideal\")\n",
        "  elif (imc >= 25 and imc <= 29.9):\n",
        "    print(\"tem está acima do peso ideal\")\n",
        "  elif (imc >= 30 and imc <= 34.9):\n",
        "    print(\"tem está com obesidade 1\")\n",
        "  elif (imc >= 35 and imc <= 39.9):\n",
        "    print(\"tem está com obesidade 2\")\n",
        "  else:\n",
        "    print(\"tem está com obesidade 3\")"
      ],
      "metadata": {
        "colab": {
          "base_uri": "https://localhost:8080/"
        },
        "id": "lSBBhLN1DyZd",
        "outputId": "7834da18-5863-4975-87aa-ddad21ac3e52"
      },
      "execution_count": null,
      "outputs": [
        {
          "name": "stdout",
          "output_type": "stream",
          "text": [
            "digite seu peso ou 0 para parar: 58\n",
            "digite sua altura: 1.70\n",
            "voce esta no peso ideal\n",
            "digite seu peso ou 0 para parar: 0\n"
          ]
        }
      ]
    },
    {
      "cell_type": "markdown",
      "source": [
        "4. Crie um programa que simule um caixa eletrônico. O programa deve:\n",
        "\n",
        "Solicitar ao usuário nome de usuário e senha para acessar a conta bancária (use valores fictícios para usuário e senha, por exemplo, \"cliente\" e \"1234\").\n",
        "\n",
        "Se o usuário ou a senha estiver incorreto, o programa deve bloquear o acesso e exibir a mensagem: \"Usuário ou senha incorretos. Tente novamente.\""
      ],
      "metadata": {
        "id": "ZuEEbiUPFJmM"
      }
    },
    {
      "cell_type": "code",
      "source": [
        "#entrada\n",
        "\n",
        "usuariocerto = \"cliente\"\n",
        "senhacerta = 1234"
      ],
      "metadata": {
        "id": "d-iKNBHuFRQh"
      },
      "execution_count": null,
      "outputs": []
    },
    {
      "cell_type": "code",
      "source": [
        "usuario = (input(\"digite seu usuario: \"))\n",
        "senha = int(input(\"digite sua senha:\"))"
      ],
      "metadata": {
        "colab": {
          "base_uri": "https://localhost:8080/"
        },
        "id": "Ijo_kxoLF0dv",
        "outputId": "970801ff-eb27-4eb2-ecd8-4e29f79facb0"
      },
      "execution_count": null,
      "outputs": [
        {
          "name": "stdout",
          "output_type": "stream",
          "text": [
            "digite seu usuario: cliente\n",
            "digite sua senha:1234\n"
          ]
        }
      ]
    },
    {
      "cell_type": "code",
      "source": [
        "if usuario == usuariocerto and senha == senhacerta:\n",
        "  print(\"acesso permitido\")\n",
        "else:\n",
        "  print(\"Usuário ou senha incorretos. Tente novamente.\")"
      ],
      "metadata": {
        "colab": {
          "base_uri": "https://localhost:8080/"
        },
        "id": "Gs0M4KWlF9IV",
        "outputId": "1f498107-d677-44c7-fae8-d5186442f7e6"
      },
      "execution_count": null,
      "outputs": [
        {
          "output_type": "stream",
          "name": "stdout",
          "text": [
            "acesso permitido\n"
          ]
        }
      ]
    },
    {
      "cell_type": "code",
      "source": [
        "# tudo junto\n",
        "\n",
        "usuariocerto = \"cliente\"\n",
        "senhacerta = 1234\n",
        "\n",
        "while True:\n",
        "  usuario = (input(\"digite seu usuario: \"))\n",
        "  senha = int(input(\"digite sua senha:\"))\n",
        "\n",
        "  if usuario == usuariocerto and senha == senhacerta:\n",
        "    print(\"acesso permitido\")\n",
        "    break\n",
        "  else:\n",
        "    print(\"Usuário ou senha incorretos. Tente novamente.\")"
      ],
      "metadata": {
        "colab": {
          "base_uri": "https://localhost:8080/"
        },
        "id": "4ozpyJa5nhjs",
        "outputId": "eb3ad552-a8eb-47f8-da42-a648656ef616"
      },
      "execution_count": 5,
      "outputs": [
        {
          "output_type": "stream",
          "name": "stdout",
          "text": [
            "digite seu usuario: cliente\n",
            "digite sua senha:125\n",
            "Usuário ou senha incorretos. Tente novamente.\n",
            "digite seu usuario: cliente\n",
            "digite sua senha:1234\n",
            "acesso permitido\n"
          ]
        }
      ]
    },
    {
      "cell_type": "markdown",
      "source": [
        "5. Exercício – Simulador de Saque e Depósito com Limite"
      ],
      "metadata": {
        "id": "e_i5EFHFGVHs"
      }
    },
    {
      "cell_type": "code",
      "source": [
        "# entrada\n",
        "limite = 3000\n",
        "saldo = -50.00\n",
        "\n",
        "usuariocerto = \"cliente\"\n",
        "senhacerta = 1234"
      ],
      "metadata": {
        "id": "dgtaL1fXGYq9"
      },
      "execution_count": null,
      "outputs": []
    },
    {
      "cell_type": "code",
      "source": [
        "usuario = (input(\"digite seu usuario: \"))\n",
        "senha = int(input(\"digite sua senha:\"))"
      ],
      "metadata": {
        "colab": {
          "base_uri": "https://localhost:8080/"
        },
        "id": "xcs_VOFRG1Po",
        "outputId": "453c7091-2bef-4156-a41e-a88551015708"
      },
      "execution_count": null,
      "outputs": [
        {
          "name": "stdout",
          "output_type": "stream",
          "text": [
            "digite seu usuario: cliente\n",
            "digite sua senha:1234\n"
          ]
        }
      ]
    },
    {
      "cell_type": "code",
      "source": [
        "if usuario == usuariocerto and senha == senhacerta:\n",
        "  print(\"acesso permitido.\")\n",
        "\n",
        "else:\n",
        "  print(\"Usuário ou senha incorretos. Tente novamente.\")"
      ],
      "metadata": {
        "colab": {
          "base_uri": "https://localhost:8080/"
        },
        "id": "WHq9v8UpG9M_",
        "outputId": "6152ddcb-bd69-4e26-abd1-4cba23ecfb4a"
      },
      "execution_count": null,
      "outputs": [
        {
          "output_type": "stream",
          "name": "stdout",
          "text": [
            "acesso permitido.\n"
          ]
        }
      ]
    },
    {
      "cell_type": "code",
      "source": [
        "if usuario == usuariocerto and senha == senhacerta:\n",
        "  print(\"Caso queira sacar digite 1, caso queira depositar digite 2 e caso queira ver o saldo, digite 3\")\n",
        "\n",
        "while True:\n",
        "  escolha = int(input(\"oque voce quer fazer? \"))\n",
        "  if escolha == 1:\n",
        "    saque = (int(input(\"diga o valor que quer sacar: \")))\n",
        "    if saque <= 3000-50:\n",
        "      print(\"saque disponivel\")\n",
        "      saldo = saldo - saque\n",
        "      print(\"o saldo final é\", saldo)\n",
        "    else:\n",
        "      print(\"saque indisposnivel\")\n",
        "\n",
        "  if escolha == 2:\n",
        "    deposito = (int(input(\"diga o valor que deseja depositar\")))\n",
        "    if deposito <= 3000:\n",
        "      print(\"deposito possivel\")\n",
        "      saldo = saldo + deposito\n",
        "      print(\"seu saldo final agora é\", saldo)\n",
        "    else:\n",
        "      print(\"não foi possivel fazer o deposito. o limite foi excedido.\")\n",
        "\n",
        "  if escolha == 3:\n",
        "    print(saldo)\n",
        "\n",
        "  if escolha == 0:\n",
        "    print(\"tchau\")\n",
        "    break\n",
        "\n",
        "  else:\n",
        "    print(\"escolha inválida\")"
      ],
      "metadata": {
        "colab": {
          "base_uri": "https://localhost:8080/"
        },
        "id": "wbaW1jt6HudO",
        "outputId": "96554760-750f-484e-db8b-d46ce71d4c95"
      },
      "execution_count": null,
      "outputs": [
        {
          "output_type": "stream",
          "name": "stdout",
          "text": [
            "Caso queira sacar digite 1, caso queira depositar digite 2 e caso queira ver o saldo, digite 3\n",
            "oque voce quer fazer? 1\n",
            "diga o valor que quer sacar: 200\n",
            "saque disponivel\n",
            "o saldo final é -950.0\n",
            "escolha inválida\n",
            "oque voce quer fazer? 4\n",
            "escolha inválida\n",
            "oque voce quer fazer? 80\n",
            "escolha inválida\n",
            "oque voce quer fazer? 0\n",
            "tchau\n"
          ]
        }
      ]
    },
    {
      "cell_type": "code",
      "source": [
        "##tudo junto\n",
        "# entrada\n",
        "limite = 3000\n",
        "saldo = -50.00\n",
        "\n",
        "usuariocerto = \"cliente\"\n",
        "senhacerta = 1234\n",
        "\n",
        "# processo\n",
        "usuario = (input(\"digite seu usuario: \"))\n",
        "senha = int(input(\"digite sua senha:\"))\n",
        "\n",
        "if usuario == usuariocerto and senha == senhacerta:\n",
        "  print(\"acesso permitido.\")\n",
        "\n",
        "  if usuario == usuariocerto and senha == senhacerta:\n",
        "    print(\"Caso queira sacar digite 1, caso queira depositar digite 2 e caso queira ver o saldo, digite 3\")\n",
        "    while True:\n",
        "      escolha = int(input(\"oque voce quer fazer?\"))\n",
        "      if escolha == 1:\n",
        "        saque = (int(input(\"diga o valor que quer sacar: \")))\n",
        "        if saque <= 3000-50:\n",
        "          print(\"saque disponivel\")\n",
        "          saldo = saldo - saque\n",
        "          print(\"o saldo final é\", saldo)\n",
        "        else:\n",
        "          print(\"saque indisposnivel\")\n",
        "\n",
        "      if escolha == 2:\n",
        "        deposito = (int(input(\"diga o valor que deseja depositar\")))\n",
        "        saldo = saldo + deposito\n",
        "        print(\"seu saldo final agora é\", saldo)\n",
        "\n",
        "      if escolha == 3:\n",
        "        print(saldo)\n",
        "\n",
        "      if escolha == 0:\n",
        "        print(\"tchau\")\n",
        "        break\n",
        "\n",
        "      else:\n",
        "        print(\"escolha indisponivel\")\n",
        "\n",
        "  else:\n",
        "    print(\"Usuário ou senha incorretos. Tente novamente.\")"
      ],
      "metadata": {
        "colab": {
          "base_uri": "https://localhost:8080/"
        },
        "id": "mgbP-rMg6JOx",
        "outputId": "ed189cce-7500-4452-f11d-f7b9c2019165"
      },
      "execution_count": null,
      "outputs": [
        {
          "output_type": "stream",
          "name": "stdout",
          "text": [
            "digite seu usuario: cliente\n",
            "digite sua senha:1234\n",
            "acesso permitido.\n",
            "Caso queira sacar digite 1, caso queira depositar digite 2 e caso queira ver o saldo, digite 3\n",
            "oque voce quer fazer?1\n",
            "diga o valor que quer sacar: 200\n",
            "saque disponivel\n",
            "o saldo final é -250.0\n",
            "escolha indisponivel\n",
            "oque voce quer fazer?4\n",
            "escolha indisponivel\n",
            "oque voce quer fazer?0\n",
            "tchau\n"
          ]
        }
      ]
    },
    {
      "cell_type": "markdown",
      "source": [
        "6. Exercício – Faça um programa que solicite altura e idade do usuário, informe se ele pode ou nao competir."
      ],
      "metadata": {
        "id": "LoFFm3DX674a"
      }
    },
    {
      "cell_type": "code",
      "source": [
        "#entrada\n",
        "while True:\n",
        "  idade = int(input(\"Digite a sua idade: \"))\n",
        "  altura = float(input(\"Digite a sua altura: \"))\n",
        "\n",
        "  #processamento\n",
        "\n",
        "  if idade >= 18 and altura >= 1.75:\n",
        "    print(\"você pode participar\")\n",
        "    break\n",
        "  else:\n",
        "    print(\"você não pode participar, cadastre-se novamente\")"
      ],
      "metadata": {
        "colab": {
          "base_uri": "https://localhost:8080/"
        },
        "id": "hSPsSa0e7LAQ",
        "outputId": "637dcb71-648e-4868-8348-78f8bc4ae419"
      },
      "execution_count": 13,
      "outputs": [
        {
          "output_type": "stream",
          "name": "stdout",
          "text": [
            "Digite a sua idade: 18\n",
            "Digite a sua altura: 1.80\n",
            "você pode participar\n"
          ]
        }
      ]
    },
    {
      "cell_type": "markdown",
      "source": [
        "7. -Faça um programa que solicite o peso do lutador de Boxe."
      ],
      "metadata": {
        "id": "WO6IteYD79PH"
      }
    },
    {
      "cell_type": "code",
      "source": [],
      "metadata": {
        "id": "MG0brz_1qUlW"
      },
      "execution_count": null,
      "outputs": []
    },
    {
      "cell_type": "code",
      "source": [
        "while True:\n",
        "  peso = float(input(\"Digite o seu peso: \"))\n",
        "\n",
        "  if peso >= 46.27 and peso <= 47.62 :\n",
        "    print(\"você é um palha ligeiro\")\n",
        "    break\n",
        "\n",
        "  elif peso >= 47.63 and peso <= 48.98:\n",
        "    print(\"você é um palha\")\n",
        "    break\n",
        "\n",
        "  elif peso >= 48.99 and peso <= 50.34:\n",
        "    print(\"você é um mosca ligeiro\")\n",
        "    break\n",
        "\n",
        "  elif peso >= 50.35 and peso <= 51.70:\n",
        "    print(\"você é um mosca\")\n",
        "    break\n",
        "\n",
        "  elif peso >= 51.71 and peso <= 53.51:\n",
        "    print(\"você é um super mosca\")\n",
        "    break\n",
        "\n",
        "  elif peso >= 53.52 and peso <= 55.33:\n",
        "    print(\"você é um galo\")\n",
        "    break\n",
        "\n",
        "  elif peso >= 55.34 and peso <= 57.14:\n",
        "    print(\"você é um super galo\")\n",
        "    break\n",
        "\n",
        "  elif peso >= 57.15 and peso <= 58.96:\n",
        "    print(\"você é um pena\")\n",
        "    break\n",
        "\n",
        "  elif peso >= 58.97 and peso <= 61.22:\n",
        "    print(\"você é um super pena\")\n",
        "    break\n",
        "\n",
        "  elif peso >= 61.23 and peso <= 63.49:\n",
        "    print(\"você é um leve\")\n",
        "    break\n",
        "\n",
        "  elif peso >= 63.5 and peso <= 66.67:\n",
        "    print(\"você é um super leve\")\n",
        "    break\n",
        "\n",
        "  elif peso >= 66.68 and peso <= 69.84:\n",
        "    print(\"você é um meio-médio\")\n",
        "    break\n",
        "\n",
        "  elif peso >= 69.85 and peso <= 73.02:\n",
        "    print(\"você é um super meio-médio\")\n",
        "    break\n",
        "\n",
        "  elif peso >= 73.03 and peso <= 76.19:\n",
        "    print(\"você é um médio\")\n",
        "    break\n",
        "\n",
        "  elif peso >= 76.2 and peso <= 79.37:\n",
        "    print(\"você é um super médio\")\n",
        "    break\n",
        "\n",
        "  elif peso >= 79.38 and peso <= 90.71:\n",
        "    print(\"você é um meio-pesado\")\n",
        "    break\n",
        "\n",
        "  elif peso >= 90.72 and peso <= 100:\n",
        "    print(\"você é um cruzador\")\n",
        "    break\n",
        "\n",
        "  elif peso > 100:\n",
        "    print(\"você é um pesado\")\n",
        "    break\n",
        "\n",
        "\n",
        "  else:\n",
        "    print(\"peso inválido, digite denovo\")"
      ],
      "metadata": {
        "colab": {
          "base_uri": "https://localhost:8080/"
        },
        "id": "HH4vu3p78I77",
        "outputId": "f78fe83f-f8f9-42a7-8423-ce1ad494d86a"
      },
      "execution_count": 15,
      "outputs": [
        {
          "output_type": "stream",
          "name": "stdout",
          "text": [
            "Digite o seu peso: 50\n",
            "você é um mosca ligeiro\n"
          ]
        }
      ]
    },
    {
      "cell_type": "markdown",
      "source": [
        "8. -Faça um programa que informe quanto esse usuário irá pagar de imposto de Renda"
      ],
      "metadata": {
        "id": "PuTAOclQAg3v"
      }
    },
    {
      "cell_type": "code",
      "source": [
        "salario = float(input(\"digite quanto você ganha de salário: \"))\n",
        "\n",
        "if salario <= 1903.98:\n",
        "  print(\"não há imposto\")\n",
        "\n",
        "elif salario >= 1903.99 or salario <= 2826.65:\n",
        "  imposto=((7.5/100)*salario)\n",
        "  print(f\"seu imposto é de: {imposto:.2f}\")\n",
        "\n",
        "elif salario >= 2826.66 or salario <= 3751.05:\n",
        "  imposto=((15/100)*salario)\n",
        "  print(f\"seu imposto é de: {imposto:.2f}\")\n",
        "\n",
        "elif salario >= 3751.06 or salario <= 4664.68:\n",
        "  imposto=((22.5/100)*salario)\n",
        "  print(f\"seu imposto é de: {imposto:.2f}\")\n",
        "\n",
        "elif salario > 4664.68:\n",
        "  imposto=((27.5/100)*salario)\n",
        "  print(f\"seu imposto é de: {imposto:.2f}\")"
      ],
      "metadata": {
        "colab": {
          "base_uri": "https://localhost:8080/"
        },
        "id": "-LTGVJXlA2D4",
        "outputId": "f44e0693-89be-4731-f203-060200fd6a24"
      },
      "execution_count": null,
      "outputs": [
        {
          "output_type": "stream",
          "name": "stdout",
          "text": [
            "digite quanto você ganha de salário: 3000\n",
            "seu imposto é de: 225.00\n"
          ]
        }
      ]
    },
    {
      "cell_type": "markdown",
      "source": [
        "9. -Uma empresa dará aumento para seus funcionários, faça um programa que faça esses cálculos, solicite o salário do funcionário e informe o aumento que o mesmo terá"
      ],
      "metadata": {
        "id": "b7uqz3JIGHw_"
      }
    },
    {
      "cell_type": "code",
      "source": [
        "salario = float(input(\"digite quanto você ganha de salário: \"))\n",
        "\n",
        "if salario <=1500:\n",
        "  aumento = ((20/100)*salario)\n",
        "  print(\"seu aumento no salário é de 20%, oque resulta em\", aumento)\n",
        "\n",
        "elif (salario >1500) or (salario <=3000):\n",
        "  aumento = ((15/100)*salario)\n",
        "  print(\"seu aumento no salário é de 15%, oque resulta em\", aumento)\n",
        "\n",
        "elif salario >3000:\n",
        "  aumento = ((10/100)*salario)\n",
        "  print(\"seu aumento no salário é de 10%, oque resulta em\", aumento)"
      ],
      "metadata": {
        "colab": {
          "base_uri": "https://localhost:8080/"
        },
        "id": "S-EJCJ0tHafU",
        "outputId": "97bc4cd8-1ba2-429d-a6d6-a0cb1eb4a289"
      },
      "execution_count": null,
      "outputs": [
        {
          "output_type": "stream",
          "name": "stdout",
          "text": [
            "digite quanto você ganha de salário: 3000\n",
            "seu aumento no salário é de 15%, oque resulta em 450.0\n"
          ]
        }
      ]
    },
    {
      "cell_type": "markdown",
      "source": [
        "10. -Simulador de frete inteligente"
      ],
      "metadata": {
        "id": "TFH2woAsIlSl"
      }
    },
    {
      "cell_type": "code",
      "source": [
        "pesodaentrega = float(input(\"coloque qual o peso da sua entrega: \"))\n",
        "distancia= float(input(\"coloque qual a distancia da sua entrega: \"))\n",
        "\n",
        "if peso <= 2:\n",
        "  frete = ((5/100)*distancia)\n",
        "  print(\"o valor da sua entrega será \", frete)\n",
        "\n",
        "elif peso > 2 or peso <= 5:\n",
        "  frete = ((8/100)*distancia)\n",
        "  print(\"o valor da sua entrega será \", frete)\n",
        "\n",
        "elif peso > 5:\n",
        "  frete = ((10/100)*distancia)\n",
        "  print(\"o valor da sua entrega será \", frete)"
      ],
      "metadata": {
        "colab": {
          "base_uri": "https://localhost:8080/"
        },
        "id": "e8h-70zDIxzf",
        "outputId": "ef5bb047-6477-4fcc-8879-d790ec3586ae"
      },
      "execution_count": null,
      "outputs": [
        {
          "output_type": "stream",
          "name": "stdout",
          "text": [
            "coloque qual o peso da sua entrega: 1\n",
            "coloque qual a distancia da sua entrega: 200\n",
            "o valor da sua entrega será  16.0\n"
          ]
        }
      ]
    },
    {
      "cell_type": "markdown",
      "source": [
        "##11 - caixa eletronico"
      ],
      "metadata": {
        "id": "SvnJgxGA2bw9"
      }
    },
    {
      "cell_type": "code",
      "source": [
        "saque = int(input(\"Quanto dinheiro você deseja sacar?\"))"
      ],
      "metadata": {
        "colab": {
          "base_uri": "https://localhost:8080/"
        },
        "id": "rpcSwC4r25JV",
        "outputId": "285167a2-640b-42ce-8a4e-0106ceb21bfa"
      },
      "execution_count": null,
      "outputs": [
        {
          "name": "stdout",
          "output_type": "stream",
          "text": [
            "Quanto dinheiro você deseja sacar?-1\n"
          ]
        }
      ]
    },
    {
      "cell_type": "code",
      "source": [
        "# variaveis de quantidade de cedulas\n",
        "\n",
        "nota_100 = 0\n",
        "nota_50 = 0\n",
        "nota_20 = 0\n",
        "nota_10 = 0\n",
        "nota_5 = 0\n",
        "nota_2 = 0\n",
        "aux = 0"
      ],
      "metadata": {
        "id": "cTyKeaGx6Odd"
      },
      "execution_count": null,
      "outputs": []
    },
    {
      "cell_type": "code",
      "source": [
        "# operações a serem executadas\n",
        "\n",
        "if(saque > 0):\n",
        "\n",
        "\n",
        "  nota_100 = saque // 100\n",
        "  aux = saque % 100\n",
        "  print(nota_100)\n",
        "\n",
        "  nota_50 = aux // 50\n",
        "  aux = aux % 50\n",
        "  print(nota_50)\n",
        "\n",
        "  nota_20 = aux // 20\n",
        "  aux = aux % 20\n",
        "  print(nota_20)\n",
        "\n",
        "  nota_10 = aux // 10\n",
        "  aux = aux % 10\n",
        "  print(nota_10)\n",
        "\n",
        "  nota_5 = aux // 5\n",
        "  aux = aux % 5\n",
        "  print(nota_5)\n",
        "\n",
        "  nota_2 = aux // 2\n",
        "  aux = aux % 2\n",
        "  print(nota_2)\n",
        "else:\n",
        "  print(\"valor inválido\")"
      ],
      "metadata": {
        "colab": {
          "base_uri": "https://localhost:8080/"
        },
        "id": "C8AMpT1u5WBN",
        "outputId": "0ae4636a-5caa-4d8f-f4f7-baf7e991736e"
      },
      "execution_count": null,
      "outputs": [
        {
          "output_type": "stream",
          "name": "stdout",
          "text": [
            "valor inválido\n"
          ]
        }
      ]
    },
    {
      "cell_type": "code",
      "source": [
        "if(saque > 0):\n",
        "  print(\"Você recebera:\")\n",
        "  print(\"notas de R$100 = \",nota_100)\n",
        "  print(\"notas de R$50 = \",nota_50)\n",
        "  print(\"notas de R$20 = \",nota_20)\n",
        "  print(\"notas de R$10 = \",nota_10)\n",
        "  print(\"notas de R$5 = \",nota_5)\n",
        "  print(\"notas de R$2 = \",nota_2)\n",
        "\n",
        "else:\n",
        "  print(\"valor inválido\")\n"
      ],
      "metadata": {
        "colab": {
          "base_uri": "https://localhost:8080/"
        },
        "id": "88qjlF8_9BR1",
        "outputId": "aff0040c-0db4-4dc9-d889-a99a1f8d52dc"
      },
      "execution_count": null,
      "outputs": [
        {
          "output_type": "stream",
          "name": "stdout",
          "text": [
            "valor inválido\n"
          ]
        }
      ]
    }
  ]
}