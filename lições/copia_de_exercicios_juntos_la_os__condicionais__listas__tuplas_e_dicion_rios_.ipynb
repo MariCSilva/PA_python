{
  "nbformat": 4,
  "nbformat_minor": 0,
  "metadata": {
    "colab": {
      "provenance": [],
      "include_colab_link": true
    },
    "kernelspec": {
      "name": "python3",
      "display_name": "Python 3"
    },
    "language_info": {
      "name": "python"
    }
  },
  "cells": [
    {
      "cell_type": "markdown",
      "metadata": {
        "id": "view-in-github",
        "colab_type": "text"
      },
      "source": [
        "<a href=\"https://colab.research.google.com/github/MariCSilva/PA_python/blob/main/c_pia_de_exercicios_juntos_la_os__condicionais__listas__tuplas_e_dicion_rios_.ipynb\" target=\"_parent\"><img src=\"https://colab.research.google.com/assets/colab-badge.svg\" alt=\"Open In Colab\"/></a>"
      ]
    },
    {
      "cell_type": "markdown",
      "source": [
        "Lista de Exercícios unindo tudo que foi ensinado até o momento:\n",
        "\n",
        "\n",
        "*   Condicionais\n",
        "*   Laços de Reptição\n",
        "*   Listas\n",
        "*   Tuplas\n",
        "*   Dicionários\n",
        "*   Manipulação de Strings\n",
        "\n",
        "\n",
        "\n",
        "\n",
        "\n"
      ],
      "metadata": {
        "id": "JsFcwNObBRcd"
      }
    },
    {
      "cell_type": "markdown",
      "source": [
        "# Tuplas - Acesso e Desempacotamento\n",
        "\n",
        "1) Crie uma tupla contendo três tipos diferentes de dados: um número, uma string e uma lista. Use um laço de repetição para acessar e imprimir cada item da tupla. Além disso, dentro do laço, acesse e imprima o segundo item da lista que está dentro da tupla."
      ],
      "metadata": {
        "id": "HM91bKpkBqGI"
      }
    },
    {
      "cell_type": "code",
      "source": [
        "dados = (24, \"Cíntia\",[1,2,3])\n",
        "\n",
        "for i in dados:\n",
        "  print(i)"
      ],
      "metadata": {
        "colab": {
          "base_uri": "https://localhost:8080/"
        },
        "id": "sCbCOqPVYeRv",
        "outputId": "6f84b700-e886-4c59-93c3-a072d0d204c5"
      },
      "execution_count": null,
      "outputs": [
        {
          "output_type": "stream",
          "name": "stdout",
          "text": [
            "24\n",
            "Cíntia\n",
            "[1, 2, 3]\n"
          ]
        }
      ]
    },
    {
      "cell_type": "code",
      "source": [
        "dados[1]"
      ],
      "metadata": {
        "colab": {
          "base_uri": "https://localhost:8080/",
          "height": 36
        },
        "id": "pZ8TJ7EFYsjg",
        "outputId": "4ad49113-15dd-4ab4-b87e-d7a1e9fc425d"
      },
      "execution_count": null,
      "outputs": [
        {
          "output_type": "execute_result",
          "data": {
            "text/plain": [
              "'Cíntia'"
            ],
            "application/vnd.google.colaboratory.intrinsic+json": {
              "type": "string"
            }
          },
          "metadata": {},
          "execution_count": 3
        }
      ]
    },
    {
      "cell_type": "markdown",
      "source": [
        "# Dicionários - Criação e Acesso\n",
        "## Cadastro de Pessoas e Análise de Alturas\n",
        "2) Solicite ao usuário para inserir o nome e a altura de várias pessoas. Preencha um dicionário com essas informações e depois encontre e imprima o nome e a altura da pessoa mais alta e da mais baixa."
      ],
      "metadata": {
        "id": "6vEHxGtjBxMi"
      }
    },
    {
      "cell_type": "code",
      "source": [
        "from os import truncate\n",
        "pessoas = {}\n",
        "alturamaior = 0\n",
        "\n",
        "while True:\n",
        "  nome = input(\"digite o nome da pessoa ou sair: \").lower()\n",
        "  if nome == \"sair\":\n",
        "    break\n",
        "  altura = float(input(f\"digite sua altura de {nome} em metros\"))\n",
        "  pessoas[nome]=altura\n",
        "\n",
        "alturamaior = max(pessoas,key=pessoas.get)\n",
        "alturamenor = min(pessoas,key=pessoas.get)\n",
        "\n",
        "print(f\"a pessoa com a maior altura é: {alturamaior}\")\n",
        "print(f\"a pessoa com menos altura é: {alturamenor}\")"
      ],
      "metadata": {
        "id": "MpJYauvTZR69",
        "colab": {
          "base_uri": "https://localhost:8080/"
        },
        "outputId": "a5397b41-937c-4a6a-e336-81d9c167ac05"
      },
      "execution_count": null,
      "outputs": [
        {
          "output_type": "stream",
          "name": "stdout",
          "text": [
            "digite o nome da pessoa ou sair: a\n",
            "digite sua altura de a em metros1.20\n",
            "digite o nome da pessoa ou sair: b\n",
            "digite sua altura de b em metros1.50\n",
            "digite o nome da pessoa ou sair: c\n",
            "digite sua altura de c em metros1.10\n",
            "digite o nome da pessoa ou sair: d\n",
            "digite sua altura de d em metros1.70\n",
            "digite o nome da pessoa ou sair: sair\n",
            "a pessoa com a maior altura é: d\n",
            "a pessoa com menos altura é: c\n"
          ]
        }
      ]
    },
    {
      "cell_type": "code",
      "source": [
        "alturamaior"
      ],
      "metadata": {
        "colab": {
          "base_uri": "https://localhost:8080/"
        },
        "id": "XSAy-2H5wivM",
        "outputId": "f5b0fa53-6527-41f2-84f0-2358b040b11f"
      },
      "execution_count": null,
      "outputs": [
        {
          "output_type": "execute_result",
          "data": {
            "text/plain": [
              "4.0"
            ]
          },
          "metadata": {},
          "execution_count": 25
        }
      ]
    },
    {
      "cell_type": "code",
      "source": [
        "print(pessoas)"
      ],
      "metadata": {
        "colab": {
          "base_uri": "https://localhost:8080/"
        },
        "id": "AXSb3egxuwT7",
        "outputId": "9c6c28b1-33c3-465f-b411-e05e9ced0c5a"
      },
      "execution_count": null,
      "outputs": [
        {
          "output_type": "stream",
          "name": "stdout",
          "text": [
            "{'a': 1.7, 'b': 1.5, 'c': 1.75}\n"
          ]
        }
      ]
    },
    {
      "cell_type": "markdown",
      "source": [
        "# Lista, laços e Condicionais\n",
        "3) Descrição: Crie uma lista com cinco números inteiros. Use um laço de repetição e uma condicional para imprimir apenas os números que são múltiplos de 3."
      ],
      "metadata": {
        "id": "FytD4QZyELAt"
      }
    },
    {
      "cell_type": "code",
      "source": [
        "numeros = []\n",
        "multiplos = []\n",
        "\n",
        "for i in range(5):\n",
        "  n = int(input(\"digite um numero: \"))\n",
        "  numeros.append(n)\n",
        "\n",
        "for n in numeros:\n",
        "  if n%3 == 0:\n",
        "    multiplos.append(n)\n",
        "print(f\"os numeros multiplos de 3 são {multiplos}\")"
      ],
      "metadata": {
        "colab": {
          "base_uri": "https://localhost:8080/"
        },
        "id": "hdwDwRCQxJWT",
        "outputId": "4b764345-ec9b-4525-9dc5-192a0f6426fd"
      },
      "execution_count": null,
      "outputs": [
        {
          "output_type": "stream",
          "name": "stdout",
          "text": [
            "digite um numero: 30\n",
            "digite um numero: 60\n",
            "digite um numero: 120\n",
            "digite um numero: 50\n",
            "digite um numero: 20\n",
            "os numeros multiplos de 3 são [30, 60, 120]\n"
          ]
        }
      ]
    },
    {
      "cell_type": "markdown",
      "source": [
        "# Manipulação de Strings e Condicionais\n",
        "4) Descrição: Crie uma string com uma frase. Use uma condicional para verificar se a frase contém a palavra \"Python\". Se sim, substitua a palavra \"Python\" por \"programação\" e imprima a nova frase."
      ],
      "metadata": {
        "id": "hwn3Fz8aEYSH"
      }
    },
    {
      "cell_type": "code",
      "source": [
        "frase = input(\"digite uma frase: \").lower()\n",
        "fraselista = frase.split()\n",
        "\n",
        "for i in range(len(fraselista)):\n",
        "  if fraselista[i] == \"python\":\n",
        "    fraselista[i] = \"programação\"\n",
        "\n",
        "print(\" \".join(fraselista))"
      ],
      "metadata": {
        "colab": {
          "base_uri": "https://localhost:8080/"
        },
        "id": "u3r_s9Yx53Oj",
        "outputId": "022012f9-ff34-4299-cb1a-e72bd464309b"
      },
      "execution_count": null,
      "outputs": [
        {
          "output_type": "stream",
          "name": "stdout",
          "text": [
            "digite uma frase: python é divertido\n",
            "programação é divertido\n"
          ]
        }
      ]
    },
    {
      "cell_type": "markdown",
      "source": [
        "# Simulação de Alfândega com Cadastro Dinâmico de Itens usando dicionário\n",
        "5) Simule uma situação de alfândega onde o funcionário cadastra itens novos encontrados na mala de uma pessoa que veio de uma viagem internacional. Após o cadastro de todos os itens, o programa imprime uma nota com todos os itens e seus preços, calcula o valor total e, se o valor total ultrapassar 500 dólares, calcula o valor de 60% a ser pago."
      ],
      "metadata": {
        "id": "hPP-JNTxEwFT"
      }
    },
    {
      "cell_type": "code",
      "source": [
        "mala = {}\n",
        "\n",
        "while True:\n",
        "  item = input(\"cadastre um item da mala, ou digite 1 caso já tenha cadastrado todos os itens: \")\n",
        "  if item == \"1\":\n",
        "    break\n",
        "  preco = float(input(\"digite o preço do item cadastrado: \"))\n",
        "  mala[item]=preco\n",
        "\n",
        "print(\"seus itens e preços são: \", mala)\n",
        "\n",
        "valor_total = sum(mala.values())\n",
        "print(f\"o valor total é: {valor_total}\")\n",
        "if valor_total > 500:\n",
        "  valoradd = valor_total * 0.6\n",
        "  print(\"sua bagagem passa de 500 dolares, o preço adicional a ser pago é de:\", valoradd)\n",
        "\n",
        "\n"
      ],
      "metadata": {
        "id": "3x4t9J5H6Vek",
        "colab": {
          "base_uri": "https://localhost:8080/"
        },
        "outputId": "b349b818-50f1-4274-f16a-4ac6b9350109"
      },
      "execution_count": null,
      "outputs": [
        {
          "output_type": "stream",
          "name": "stdout",
          "text": [
            "cadastre um item da mala, ou digite 1 caso já tenha cadastrado todos os itens: a\n",
            "digite o preço do item cadastrado: 50\n",
            "cadastre um item da mala, ou digite 1 caso já tenha cadastrado todos os itens: b\n",
            "digite o preço do item cadastrado: 50\n",
            "cadastre um item da mala, ou digite 1 caso já tenha cadastrado todos os itens: c\n",
            "digite o preço do item cadastrado: 420\n",
            "cadastre um item da mala, ou digite 1 caso já tenha cadastrado todos os itens: 1\n",
            "seus itens e preços são:  {'a': 50.0, 'b': 50.0, 'c': 420.0}\n",
            "o valor total é: 520.0\n",
            "sua bagagem passa de 500 dolares, o preço adicional a ser pago é de: 312.0\n"
          ]
        }
      ]
    },
    {
      "cell_type": "markdown",
      "source": [
        "# Identificação de Palavras Negativas em um Texto\n",
        "6) Você vai criar um programa em Python para analisar um texto e identificar palavras que expressam pensamentos negativos. Para isso, você usará uma lista de palavras negativas fornecida e verificará quais dessas palavras estão presentes no texto fornecido pelo usuário. Exemplo de palavras negtivas, acrescente mais na lista: # Lista de palavras negativas palavras_negativas = ['triste', 'deprimido', 'ansioso', 'desapontado', 'frustrado']"
      ],
      "metadata": {
        "id": "OH8D047zVsp-"
      }
    },
    {
      "cell_type": "code",
      "source": [
        "palavras_negativas = ['triste', 'deprimido', 'ansioso', 'desapontado', 'frustrado']\n",
        "frase = input(\"digite uma frase: \").lower()\n",
        "fraselista = frase.split()\n",
        "plvrsneg = 0\n",
        "\n",
        "for i in range(len(fraselista)):\n",
        "  for p in range(len(palavras_negativas)):\n",
        "    if palavras_negativas[p] == fraselista[i]:\n",
        "      plvrsneg += 1\n",
        "\n",
        "print(\"há\", plvrsneg, \"palavras negativas na sua frase\")\n",
        "\n",
        "\n",
        "\n",
        "\n",
        "\n"
      ],
      "metadata": {
        "id": "xDSrYWf_Vr8G",
        "colab": {
          "base_uri": "https://localhost:8080/"
        },
        "outputId": "19830541-3461-4b41-d428-be87aada9110"
      },
      "execution_count": null,
      "outputs": [
        {
          "output_type": "stream",
          "name": "stdout",
          "text": [
            "digite uma frase: eu estou triste deprimido e ansioso\n",
            "há 3 palavras negativas na sua frase\n"
          ]
        }
      ]
    }
  ]
}
